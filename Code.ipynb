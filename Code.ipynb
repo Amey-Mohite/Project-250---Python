{
 "cells": [
  {
   "cell_type": "code",
   "execution_count": null,
   "metadata": {},
   "outputs": [],
   "source": [
    "import requests\n",
    "from bs4 import BeautifulSoup\n",
    "from collections import Counter\n",
    "from urllib.parse import urlparse\n",
    "import nltk\n",
    "from nltk.corpus import stopwords\n",
    "import re"
   ]
  },
  {
   "cell_type": "code",
   "execution_count": null,
   "metadata": {},
   "outputs": [],
   "source": [
    "# Ensure NLTK stop words are downloaded\n",
    "nltk.download('stopwords')\n",
    "english_stopwords = set(stopwords.words('english'))"
   ]
  },
  {
   "cell_type": "code",
   "execution_count": null,
   "metadata": {},
   "outputs": [],
   "source": [
    "# Initialize variables\n",
    "unique_urls = set()\n",
    "word_counts = {}\n",
    "common_words = Counter()\n",
    "subdomains = {}"
   ]
  },
  {
   "cell_type": "code",
   "execution_count": null,
   "metadata": {},
   "outputs": [],
   "source": [
    "def crawl(url, base_domain):\n",
    "    if url in unique_urls:\n",
    "        return\n",
    "\n",
    "    print(url)\n",
    "    try:\n",
    "        response = requests.get(url)\n",
    "        soup = BeautifulSoup(response.content, 'html.parser')\n",
    "\n",
    "        # Add URL to unique URLs set\n",
    "        unique_urls.add(url)\n",
    "\n",
    "        # Count words, excluding stopwords\n",
    "        # words = [word for word in re.findall(r'\\w+', soup.get_text().lower()) if word not in english_stopwords]\n",
    "        # word_counts[url] = len(words)\n",
    "        # common_words.update(words)\n",
    "        \n",
    "        # Count words, excluding stopwords and single-letter words\n",
    "        words = [word for word in re.findall(r'\\w+', soup.get_text().lower()) if word not in english_stopwords and len(word) > 1]\n",
    "        word_counts[url] = len(words)\n",
    "        common_words.update(words)\n",
    "\n",
    "        # Check for subdomain and update count\n",
    "        subdomain = urlparse(url).netloc\n",
    "        if base_domain in subdomain:\n",
    "            subdomains[subdomain] = subdomains.get(subdomain, 0) + 1\n",
    "\n",
    "        # Find and crawl other links on the page\n",
    "        for link in soup.find_all('a', href=True):\n",
    "            next_page = link['href']\n",
    "            if next_page.startswith('/'):\n",
    "                next_page = f'{base_domain}{next_page}'\n",
    "            if next_page.startswith('http') and base_domain in next_page:\n",
    "                crawl(next_page, base_domain)\n",
    "\n",
    "    except requests.exceptions.RequestException:\n",
    "        pass"
   ]
  },
  {
   "cell_type": "code",
   "execution_count": null,
   "metadata": {},
   "outputs": [],
   "source": [
    "base_url = 'http://ics.uci.edu/'\n",
    "crawl(base_url, 'ics.uci.edu')"
   ]
  },
  {
   "cell_type": "code",
   "execution_count": null,
   "metadata": {},
   "outputs": [],
   "source": [
    "# Print results\n",
    "print(f'Number of unique URLs: {len(unique_urls)}')\n",
    "print(f'Longest page: {max(word_counts, key=word_counts.get)} with {word_counts[max(word_counts, key=word_counts.get)]} words')\n",
    "print('50 most common words:', common_words.most_common(50))\n",
    "print('Subdomains and their page counts:')\n",
    "for subdomain, count in sorted(subdomains.items()):\n",
    "    print(f'{subdomain}, {count}')"
   ]
  },
  {
   "cell_type": "code",
   "execution_count": null,
   "metadata": {},
   "outputs": [],
   "source": []
  }
 ],
 "metadata": {
  "kernelspec": {
   "display_name": "venv",
   "language": "python",
   "name": "python3"
  },
  "language_info": {
   "codemirror_mode": {
    "name": "ipython",
    "version": 3
   },
   "file_extension": ".py",
   "mimetype": "text/x-python",
   "name": "python",
   "nbconvert_exporter": "python",
   "pygments_lexer": "ipython3",
   "version": "3.11.8"
  }
 },
 "nbformat": 4,
 "nbformat_minor": 2
}
